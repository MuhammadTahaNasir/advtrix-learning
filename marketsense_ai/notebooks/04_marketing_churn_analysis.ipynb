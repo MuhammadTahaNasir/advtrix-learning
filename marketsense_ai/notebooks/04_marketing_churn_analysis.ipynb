{
    "cells": [
        {
            "cell_type": "code",
            "execution_count": null,
            "id": "cell-001",
            "metadata": {},
            "outputs": [],
            "source": [
                "import sys\n",
                "import subprocess\n",
                "\n",
                "def install_if_missing(package):\n",
                "    try:\n",
                "        __import__(package)\n",
                "    except ImportError:\n",
                "        print(f'Installing {package}...')\n",
                "        subprocess.check_call([sys.executable, \"-m\", \"pip\", \"install\", package])\n",
                "\n",
                "install_if_missing('plotly')\n"
            ]
        },
        {
            "cell_type": "markdown",
            "id": "cell-002",
            "metadata": {},
            "source": [
                "### Step 1: Generate Churn Data"
            ]
        },
        {
            "cell_type": "code",
            "execution_count": null,
            "id": "cell-003",
            "metadata": {},
            "outputs": [],
            "source": [
                "import pandas as pd\n",
                "import numpy as np\n",
                "import os\n",
                "# Ensure data directory exists\n",
                "os.makedirs('data', exist_ok=True)\n",
                "np.random.seed(42)\n",
                "n_samples = 1000\n",
                "data = {\n",
                "    'customer_id': range(1, n_samples + 1),\n",
                "    'tenure_months': np.random.randint(1, 60, n_samples),\n",
                "    'monthly_spend': np.random.uniform(20, 200, n_samples),\n",
                "    'support_tickets': np.random.randint(0, 10, n_samples),\n",
                "    'churned': np.random.choice([0, 1], n_samples, p=[0.75, 0.25])\n",
                "}\n",
                "df_churn = pd.DataFrame(data)\n",
                "df_churn.to_csv('data/churn_data.csv', index=False)\n",
                "print('✅ Churn data saved to data/churn_data.csv')\n",
                "df_churn.head()"
            ]
        },
        {
            "cell_type": "markdown",
            "id": "cell-004",
            "metadata": {},
            "source": [
                "### Step 2: Generate Synthetic Marketing Data"
            ]
        },
        {
            "cell_type": "code",
            "execution_count": null,
            "id": "cell-005",
            "metadata": {},
            "outputs": [],
            "source": [
                "import pandas as pd\n",
                "import numpy as np\n",
                "np.random.seed(42)\n",
                "n_samples = 500\n",
                "dates = pd.date_range(start='2023-01-01', periods=n_samples, freq='D')\n",
                "data = {\n",
                "    'date': dates,\n",
                "    'spend': np.random.uniform(1000, 5000, n_samples),\n",
                "    'engagement': np.random.uniform(200, 1000, n_samples),\n",
                "    'clicks': np.random.randint(50, 300, n_samples),\n",
                "    'impressions': np.random.randint(1000, 10000, n_samples)\n",
                "}\n",
                "df_marketing = pd.DataFrame(data)\n",
                "print('✅ Generated synthetic marketing data')\n",
                "df_marketing.head()"
            ]
        },
        {
            "cell_type": "markdown",
            "id": "cell-006",
            "metadata": {},
            "source": [
                "### Step 3: Load Churn Data"
            ]
        },
        {
            "cell_type": "code",
            "execution_count": null,
            "id": "cell-007",
            "metadata": {},
            "outputs": [],
            "source": [
                "import pandas as pd\n",
                "df_churn = pd.read_csv('data/churn_data.csv')\n",
                "print(f'✅ Churn Data Loaded. Total Records: {len(df_churn)}')\n",
                "df_churn.head()"
            ]
        },
        {
            "cell_type": "markdown",
            "id": "cell-008",
            "metadata": {},
            "source": [
                "### Step 4: Plot Marketing Spend and Engagement Over Time"
            ]
        },
        {
            "cell_type": "code",
            "execution_count": null,
            "id": "cell-009",
            "metadata": {},
            "outputs": [],
            "source": [
                "import matplotlib.pyplot as plt\n",
                "import seaborn as sns\n",
                "plt.figure(figsize=(12, 6))\n",
                "sns.lineplot(x='date', y='spend', data=df_marketing, label='Spend')\n",
                "sns.lineplot(x='date', y='engagement', data=df_marketing, label='Engagement')\n",
                "plt.title('Spend and Engagement Over Time')\n",
                "plt.legend()\n",
                "plt.show()"
            ]
        },
        {
            "cell_type": "markdown",
            "id": "cell-010",
            "metadata": {},
            "source": [
                "### Step 5: Marketing Feature Correlation Heatmap"
            ]
        },
        {
            "cell_type": "code",
            "execution_count": null,
            "id": "cell-011",
            "metadata": {},
            "outputs": [],
            "source": [
                "import matplotlib.pyplot as plt\n",
                "import seaborn as sns\n",
                "plt.figure(figsize=(8,6))\n",
                "sns.heatmap(df_marketing[['spend', 'engagement', 'clicks', 'impressions']].corr(), annot=True, cmap='coolwarm')\n",
                "plt.title('Marketing Feature Correlation Heatmap')\n",
                "plt.show()"
            ]
        },
        {
            "cell_type": "markdown",
            "id": "cell-012",
            "metadata": {},
            "source": [
                "### Step 6: Engagement vs Clicks Scatter Plot"
            ]
        },
        {
            "cell_type": "code",
            "execution_count": null,
            "id": "cell-013",
            "metadata": {},
            "outputs": [],
            "source": [
                "import matplotlib.pyplot as plt\n",
                "import seaborn as sns\n",
                "plt.figure(figsize=(8,6))\n",
                "sns.scatterplot(x='engagement', y='clicks', data=df_marketing)\n",
                "plt.title('Engagement vs Clicks')\n",
                "plt.xlabel('Engagement')\n",
                "plt.ylabel('Clicks')\n",
                "plt.show()"
            ]
        },
        {
            "cell_type": "markdown",
            "id": "cell-014",
            "metadata": {},
            "source": [
                "### Step 7: Histogram of Marketing Spend and Engagement"
            ]
        },
        {
            "cell_type": "code",
            "execution_count": null,
            "id": "cell-015",
            "metadata": {},
            "outputs": [],
            "source": [
                "import matplotlib.pyplot as plt\n",
                "import seaborn as sns\n",
                "plt.figure(figsize=(12, 5))\n",
                "plt.subplot(1, 2, 1)\n",
                "sns.histplot(df_marketing['spend'], bins=30, kde=True, color='blue')\n",
                "plt.title('Spend Distribution')\n",
                "plt.subplot(1, 2, 2)\n",
                "sns.histplot(df_marketing['engagement'], bins=30, kde=True, color='green')\n",
                "plt.title('Engagement Distribution')\n",
                "plt.tight_layout()\n",
                "plt.show()"
            ]
        },
        {
            "cell_type": "markdown",
            "id": "cell-016",
            "metadata": {},
            "source": [
                "### Step 8: Box Plot of Marketing Clicks and Impressions"
            ]
        },
        {
            "cell_type": "code",
            "execution_count": null,
            "id": "cell-017",
            "metadata": {},
            "outputs": [],
            "source": [
                "import matplotlib.pyplot as plt\n",
                "import seaborn as sns\n",
                "plt.figure(figsize=(8, 6))\n",
                "sns.boxplot(data=df_marketing[['clicks', 'impressions']])\n",
                "plt.title('Box Plot of Clicks and Impressions')\n",
                "plt.show()"
            ]
        },
        {
            "cell_type": "markdown",
            "id": "cell-018",
            "metadata": {},
            "source": [
                "### Step 9: Pair Plot of Marketing Features"
            ]
        },
        {
            "cell_type": "code",
            "execution_count": null,
            "id": "cell-019",
            "metadata": {},
            "outputs": [],
            "source": [
                "import seaborn as sns\n",
                "sns.pairplot(df_marketing[['spend', 'engagement', 'clicks', 'impressions']])\n",
                "plt.suptitle('Pair Plot of Marketing Features', y=1.02)\n",
                "plt.show()"
            ]
        },
        {
            "cell_type": "markdown",
            "id": "cell-020",
            "metadata": {},
            "source": [
                "### Step 10: Rolling Average of Marketing Spend and Engagement"
            ]
        },
        {
            "cell_type": "code",
            "execution_count": null,
            "id": "cell-021",
            "metadata": {},
            "outputs": [],
            "source": [
                "import matplotlib.pyplot as plt\n",
                "import seaborn as sns\n",
                "plt.figure(figsize=(12, 6))\n",
                "df_marketing['spend_rolling'] = df_marketing['spend'].rolling(window=30, min_periods=1).mean()\n",
                "df_marketing['engagement_rolling'] = df_marketing['engagement'].rolling(window=30, min_periods=1).mean()\n",
                "sns.lineplot(x='date', y='spend_rolling', data=df_marketing, label='Spend (30-day Rolling Avg)')\n",
                "sns.lineplot(x='date', y='engagement_rolling', data=df_marketing, label='Engagement (30-day Rolling Avg)')\n",
                "plt.title('30-Day Rolling Average of Spend and Engagement')\n",
                "plt.legend()\n",
                "plt.show()"
            ]
        },
        {
            "cell_type": "markdown",
            "id": "cell-022",
            "metadata": {},
            "source": [
                "### Step 11: Marketing Feature Engineering (Click-Through Rate)"
            ]
        },
        {
            "cell_type": "code",
            "execution_count": null,
            "id": "cell-023",
            "metadata": {},
            "outputs": [],
            "source": [
                "df_marketing['ctr'] = df_marketing['clicks'] / df_marketing['impressions'] * 100\n",
                "print('Added Click-Through Rate (CTR) column to marketing data:')\n",
                "df_marketing.head()"
            ]
        },
        {
            "cell_type": "markdown",
            "id": "cell-024",
            "metadata": {},
            "source": [
                "### Step 12: Marketing Correlation with P-Values"
            ]
        },
        {
            "cell_type": "code",
            "execution_count": null,
            "id": "cell-025",
            "metadata": {},
            "outputs": [],
            "source": [
                "from scipy.stats import pearsonr\n",
                "import pandas as pd\n",
                "import seaborn as sns\n",
                "import matplotlib.pyplot as plt\n",
                "def corr_pval(df, col1, col2):\n",
                "    corr, pval = pearsonr(df[col1], df[col2])\n",
                "    return corr, pval\n",
                "\n",
                "features = ['spend', 'engagement', 'clicks', 'impressions', 'ctr']\n",
                "corr_matrix = df_marketing[features].corr()\n",
                "pval_matrix = pd.DataFrame(index=features, columns=features)\n",
                "for col1 in features:\n",
                "    for col2 in features:\n",
                "        if col1 != col2:\n",
                "            _, pval = corr_pval(df_marketing, col1, col2)\n",
                "            pval_matrix.loc[col1, col2] = pval\n",
                "        else:\n",
                "            pval_matrix.loc[col1, col2] = 0.0\n",
                "\n",
                "plt.figure(figsize=(8, 6))\n",
                "sns.heatmap(corr_matrix, annot=pval_matrix, fmt='.2e', cmap='coolwarm')\n",
                "plt.title('Marketing Correlation Heatmap with P-Values')\n",
                "plt.show()"
            ]
        },
        {
            "cell_type": "markdown",
            "id": "cell-026",
            "metadata": {},
            "source": [
                "### Step 13: Linear Regression for Marketing Clicks Prediction"
            ]
        },
        {
            "cell_type": "code",
            "execution_count": null,
            "id": "cell-027",
            "metadata": {},
            "outputs": [],
            "source": [
                "from sklearn.linear_model import LinearRegression\n",
                "from sklearn.model_selection import train_test_split\n",
                "from sklearn.metrics import mean_squared_error\n",
                "import matplotlib.pyplot as plt\n",
                "X = df_marketing[['spend', 'engagement', 'ctr']]\n",
                "y = df_marketing['clicks']\n",
                "X_train, X_test, y_train, y_test = train_test_split(X, y, test_size=0.2, random_state=42)\n",
                "model = LinearRegression()\n",
                "model.fit(X_train, y_train)\n",
                "y_pred = model.predict(X_test)\n",
                "mse = mean_squared_error(y_test, y_pred)\n",
                "print(f'Mean Squared Error for Clicks Prediction: {mse:.2f}')\n",
                "plt.figure(figsize=(8, 6))\n",
                "plt.scatter(y_test, y_pred, alpha=0.5)\n",
                "plt.plot([y_test.min(), y_test.max()], [y_test.min(), y_test.max()], 'r--')\n",
                "plt.xlabel('Actual Clicks')\n",
                "plt.ylabel('Predicted Clicks')\n",
                "plt.title('Linear Regression: Actual vs Predicted Clicks')\n",
                "plt.show()"
            ]
        },
        {
            "cell_type": "markdown",
            "id": "cell-028",
            "metadata": {},
            "source": [
                "### Step 14: Churn Data Pair Plot"
            ]
        },
        {
            "cell_type": "code",
            "execution_count": null,
            "id": "cell-029",
            "metadata": {},
            "outputs": [],
            "source": [
                "import seaborn as sns\n",
                "sns.pairplot(df_churn[['tenure_months', 'monthly_spend', 'support_tickets', 'churned']], hue='churned')\n",
                "plt.suptitle('Churn Data Pair Plot', y=1.02)\n",
                "plt.show()"
            ]
        },
        {
            "cell_type": "markdown",
            "id": "cell-030",
            "metadata": {},
            "source": [
                "### Step 15: Churn Rate by Tenure"
            ]
        },
        {
            "cell_type": "code",
            "execution_count": null,
            "id": "cell-031",
            "metadata": {},
            "outputs": [],
            "source": [
                "import matplotlib.pyplot as plt\n",
                "import seaborn as sns\n",
                "plt.figure(figsize=(10, 6))\n",
                "df_churn['tenure_bin'] = pd.cut(df_churn['tenure_months'], bins=5)\n",
                "sns.barplot(x='tenure_bin', y='churned', data=df_churn, errorbar=None)\n",
                "plt.title('Churn Rate by Tenure Bin')\n",
                "plt.xlabel('Tenure Bins (Months)')\n",
                "plt.ylabel('Churn Rate')\n",
                "plt.xticks(rotation=45)\n",
                "plt.show()"
            ]
        },
        {
            "cell_type": "markdown",
            "id": "cell-032",
            "metadata": {},
            "source": [
                "### Step 16: Logistic Regression for Churn Prediction"
            ]
        },
        {
            "cell_type": "code",
            "execution_count": null,
            "id": "cell-033",
            "metadata": {},
            "outputs": [],
            "source": [
                "from sklearn.linear_model import LogisticRegression\n",
                "from sklearn.model_selection import train_test_split\n",
                "from sklearn.metrics import classification_report\n",
                "import matplotlib.pyplot as plt\n",
                "import seaborn as sns\n",
                "X = df_churn[['tenure_months', 'monthly_spend', 'support_tickets']]\n",
                "y = df_churn['churned']\n",
                "X_train, X_test, y_train, y_test = train_test_split(X, y, test_size=0.2, random_state=42)\n",
                "model = LogisticRegression(class_weight='balanced', random_state=42)\n",
                "model.fit(X_train, y_train)\n",
                "y_pred = model.predict(X_test)\n",
                "print('Churn Prediction Classification Report:')\n",
                "print(classification_report(y_test, y_pred, zero_division=1))\n",
                "plt.figure(figsize=(8, 6))\n",
                "sns.barplot(x=model.coef_[0], y=['Tenure Months', 'Monthly Spend', 'Support Tickets'])\n",
                "plt.title('Logistic Regression Feature Importance')\n",
                "plt.xlabel('Coefficient')\n",
                "plt.show()"
            ]
        },
        {
            "cell_type": "markdown",
            "id": "cell-034",
            "metadata": {},
            "source": [
                "### Step 17: K-Means Clustering of Churn Data"
            ]
        },
        {
            "cell_type": "code",
            "execution_count": null,
            "id": "cell-035",
            "metadata": {},
            "outputs": [],
            "source": [
                "from sklearn.cluster import KMeans\n",
                "import matplotlib.pyplot as plt\n",
                "import seaborn as sns\n",
                "X = df_churn[['tenure_months', 'monthly_spend', 'support_tickets']]\n",
                "kmeans = KMeans(n_clusters=3, random_state=42)\n",
                "df_churn['cluster'] = kmeans.fit_predict(X)\n",
                "plt.figure(figsize=(8, 6))\n",
                "sns.scatterplot(x='tenure_months', y='monthly_spend', hue='cluster', style='churned', data=df_churn)\n",
                "plt.title('K-Means Clustering of Customers')\n",
                "plt.show()"
            ]
        },
        {
            "cell_type": "markdown",
            "id": "cell-036",
            "metadata": {},
            "source": [
                "### Step 18: Interactive Plotly Chart for Marketing Engagement"
            ]
        },
        {
            "cell_type": "code",
            "execution_count": null,
            "id": "3db5d3c5",
            "metadata": {},
            "outputs": [],
            "source": [
                "import plotly.io as pio\n",
                "pio.renderers.default = 'notebook_connected'"
            ]
        },
        {
            "cell_type": "code",
            "execution_count": null,
            "id": "bccd083f",
            "metadata": {},
            "outputs": [],
            "source": [
                "import plotly.express as px\n",
                "fig = px.line(df_marketing, x='date', y='engagement', title='Interactive Engagement Over Time')\n",
                "fig.show()\n"
            ]
        },
        {
            "cell_type": "code",
            "execution_count": null,
            "id": "cell-037",
            "metadata": {},
            "outputs": [],
            "source": [
                "import plotly.express as px\n",
                "fig = px.line(df_marketing, x='date', y='engagement', title='Interactive Engagement Over Time')\n",
                "fig.show()\n"
            ]
        },
        {
            "cell_type": "markdown",
            "id": "cell-038",
            "metadata": {},
            "source": [
                "### Step 19: Save Processed Data"
            ]
        },
        {
            "cell_type": "code",
            "execution_count": null,
            "id": "cell-039",
            "metadata": {},
            "outputs": [],
            "source": [
                "import os\n",
                "os.makedirs('data', exist_ok=True)\n",
                "df_marketing.to_csv('data/marketing_analysis_data.csv', index=False)\n",
                "df_churn.to_csv('data/churn_analysis_data.csv', index=False)\n",
                "print('✅ Marketing data saved to data/marketing_analysis_data.csv')\n",
                "print('✅ Churn data saved to data/churn_analysis_data.csv')"
            ]
        }
    ],
    "metadata": {
        "kernelspec": {
            "display_name": "Python 3 (ipykernel)",
            "language": "python",
            "name": "python3"
        },
        "language_info": {
            "name": "python",
            "version": "3.12"
        }
    },
    "nbformat": 4,
    "nbformat_minor": 5
}
