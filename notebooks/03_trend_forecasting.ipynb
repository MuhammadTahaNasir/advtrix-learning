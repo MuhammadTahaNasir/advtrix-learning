{
 "cells": [
  {
   "cell_type": "code",
   "execution_count": null,
   "id": "install-dependencies",
   "metadata": {},
   "outputs": [],
   "source": [
    "# Install dependencies\n",
    "import subprocess\n",
    "import sys\n",
    "import importlib.util\n",
    "\n",
    "dependencies = ['pandas', 'numpy', 'matplotlib', 'seaborn', 'prophet', 'ipywidgets', 'plotly']\n",
    "for pkg in dependencies:\n",
    "    if importlib.util.find_spec(pkg) is None:\n",
    "        try:\n",
    "            subprocess.check_call([sys.executable, \"-m\", \"pip\", \"install\", pkg, \"--user\", \"--quiet\"])\n",
    "        except subprocess.CalledProcessError as e:\n",
    "            print(f\"❌ Failed to install {pkg}: {e}\")\n",
    "            print(f\"Run in terminal: {sys.executable} -m pip install {pkg} --user --verbose\")\n",
    "            raise\n",
    "print(\"✅ Dependencies installed.\")"
   ]
  },
  {
   "cell_type": "code",
   "execution_count": null,
   "id": "load-data",
   "metadata": {},
   "outputs": [],
   "source": [
    "import pandas as pd\n",
    "import numpy as np\n",
    "import os\n",
    "\n",
    "# Create sample data if the CSV file doesn't exist\n",
    "os.makedirs('data', exist_ok=True)\n",
    "if not os.path.exists('data/marketing_trends.csv'):\n",
    "    try:\n",
    "        dates = pd.date_range(start='2020-01-01', end='2023-12-31', freq='ME')\n",
    "        data = {\n",
    "            'month': dates,\n",
    "            'spend': np.random.uniform(1000, 10000, len(dates)),\n",
    "            'conversions': np.random.randint(50, 500, len(dates))\n",
    "        }\n",
    "        df = pd.DataFrame(data)\n",
    "        df.to_csv('data/marketing_trends.csv', index=False)\n",
    "        print(\"✅ Sample data created and saved to 'data/marketing_trends.csv'\")\n",
    "    except Exception as e:\n",
    "        print(f\"❌ Error creating sample data: {e}\")\n",
    "        raise\n",
    "\n",
    "# Load data\n",
    "try:\n",
    "    df = pd.read_csv('data/marketing_trends.csv')\n",
    "    print(f\"✅ Data Loaded. Total Records: {len(df)}\")\n",
    "    display(df.head())\n",
    "except FileNotFoundError:\n",
    "    print(\"❌ Error: 'data/marketing_trends.csv' not found.\")\n",
    "    raise\n",
    "except Exception as e:\n",
    "    print(f\"❌ Error loading data: {e}\")\n",
    "    raise"
   ]
  },
  {
   "cell_type": "code",
   "execution_count": null,
   "id": "process-data",
   "metadata": {},
   "outputs": [],
   "source": [
    "if 'df' in globals():\n",
    "    try:\n",
    "        df['month'] = pd.to_datetime(df['month'])\n",
    "        print(\"📊 Dataset Info:\")\n",
    "        print(df.info())\n",
    "        print(\"\\n📊 Spend & Conversions Summary:\")\n",
    "        display(df.describe())\n",
    "    except Exception as e:\n",
    "        print(f\"❌ Error processing data: {e}\")\n",
    "        raise\n",
    "else:\n",
    "    print(\"❌ Error: DataFrame 'df' not defined.\")\n",
    "    raise"
   ]
  },
  {
   "cell_type": "code",
   "execution_count": null,
   "id": "plot-data",
   "metadata": {},
   "outputs": [],
   "source": [
    "import matplotlib.pyplot as plt\n",
    "import seaborn as sns\n",
    "%matplotlib inline\n",
    "\n",
    "if 'df' in globals() and all(col in df.columns for col in ['month', 'spend', 'conversions']):\n",
    "    try:\n",
    "        plt.figure(figsize=(10,5))\n",
    "        sns.lineplot(data=df, x='month', y='spend', label='Spend')\n",
    "        sns.lineplot(data=df, x='month', y='conversions', label='Conversions')\n",
    "        plt.title(\"Marketing Spend & Conversions Over Time\")\n",
    "        plt.legend()\n",
    "        plt.show()\n",
    "    except Exception as e:\n",
    "        print(f\"❌ Error plotting data: {e}\")\n",
    "        raise\n",
    "else:\n",
    "    print(\"⚠️ Required columns ('month', 'spend', 'conversions') missing.\")\n",
    "    raise"
   ]
  },
  {
   "cell_type": "code",
   "execution_count": null,
   "id": "prepare-forecast",
   "metadata": {},
   "outputs": [],
   "source": [
    "if 'df' in globals() and all(col in df.columns for col in ['month', 'conversions']):\n",
    "    try:\n",
    "        forecast_df = df[['month', 'conversions']].rename(columns={'month': 'ds', 'conversions': 'y'})\n",
    "        display(forecast_df.head())\n",
    "    except Exception as e:\n",
    "        print(f\"❌ Error preparing forecast data: {e}\")\n",
    "        raise\n",
    "else:\n",
    "    print(\"⚠️ Required columns ('month', 'conversions') missing.\")\n",
    "    raise"
   ]
  },
  {
   "cell_type": "code",
   "execution_count": null,
   "id": "train-model",
   "metadata": {},
   "outputs": [],
   "source": [
    "import logging\n",
    "\n",
    "if 'forecast_df' in globals():\n",
    "    try:\n",
    "        from prophet import Prophet\n",
    "        # Suppress cmdstanpy info logs\n",
    "        logging.getLogger('cmdstanpy').setLevel(logging.WARNING)\n",
    "        model = Prophet()\n",
    "        model.fit(forecast_df)\n",
    "        print(\"✅ Prophet model trained.\")\n",
    "    except Exception as e:\n",
    "        print(f\"❌ Error training Prophet model: {e}\")\n",
    "        raise\n",
    "else:\n",
    "    print(\"❌ Error: DataFrame 'forecast_df' not defined.\")\n",
    "    raise"
   ]
  },
  {
   "cell_type": "code",
   "execution_count": null,
   "id": "make-forecast",
   "metadata": {},
   "outputs": [],
   "source": [
    "import logging\n",
    "\n",
    "if 'model' in globals():\n",
    "    try:\n",
    "        # Suppress cmdstanpy info logs\n",
    "        logging.getLogger('cmdstanpy').setLevel(logging.WARNING)\n",
    "        future = model.make_future_dataframe(periods=12, freq='ME')\n",
    "        forecast = model.predict(future)\n",
    "        display(forecast[['ds', 'yhat', 'yhat_lower', 'yhat_upper']].tail())\n",
    "    except Exception as e:\n",
    "        print(f\"❌ Error making forecast: {e}\")\n",
    "        raise\n",
    "else:\n",
    "    print(\"❌ Error: 'model' not defined.\")\n",
    "    raise"
   ]
  },
  {
   "cell_type": "code",
   "execution_count": null,
   "id": "plot-forecast",
   "metadata": {},
   "outputs": [],
   "source": [
    "if 'model' in globals() and 'forecast' in globals():\n",
    "    try:\n",
    "        fig1 = model.plot(forecast)\n",
    "        plt.title(\"Forecasted Conversions\")\n",
    "        plt.show()\n",
    "    except Exception as e:\n",
    "        print(f\"❌ Error plotting forecast: {e}\")\n",
    "        raise\n",
    "else:\n",
    "    print(\"❌ Error: 'model' or 'forecast' not defined.\")\n",
    "    raise"
   ]
  },
  {
   "cell_type": "code",
   "execution_count": null,
   "id": "save-forecast",
   "metadata": {},
   "outputs": [],
   "source": [
    "if 'forecast' in globals():\n",
    "    try:\n",
    "        forecast.to_csv('data/marketing_conversions_forecast.csv', index=False)\n",
    "        print(\"✅ Forecast saved to 'data/marketing_conversions_forecast.csv'\")\n",
    "    except Exception as e:\n",
    "        print(f\"❌ Error saving file: {e}\")\n",
    "        raise\n",
    "else:\n",
    "    print(\"❌ Error: 'forecast' not defined.\")\n",
    "    raise"
   ]
  }
 ],
 "metadata": {
  "kernelspec": {
   "display_name": "Python 3 (ipykernel)",
   "language": "python",
   "name": "python3"
  },
  "language_info": {
   "codemirror_mode": {
    "name": "ipython",
    "version": 3
   },
   "file_extension": ".py",
   "mimetype": "text/x-python",
   "name": "python",
   "nbconvert_exporter": "python",
   "pygments_lexer": "ipython3",
   "version": "3.12.4"
  }
 },
 "nbformat": 4,
 "nbformat_minor": 5
}
