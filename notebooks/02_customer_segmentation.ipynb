{
 "cells": [
  {
   "cell_type": "code",
   "execution_count": null,
   "id": "0d2aa81f",
   "metadata": {},
   "outputs": [],
   "source": [
    "!pip install pandas matplotlib seaborn scikit-learn"
   ]
  },
  {
   "cell_type": "code",
   "execution_count": null,
   "id": "028112eb",
   "metadata": {},
   "outputs": [],
   "source": [
    "import pandas as pd\n",
    "import numpy as np\n",
    "import matplotlib.pyplot as plt\n",
    "import seaborn as sns\n",
    "from sklearn.preprocessing import StandardScaler\n",
    "from sklearn.cluster import KMeans\n",
    "from sklearn.metrics import silhouette_score\n",
    "%matplotlib inline"
   ]
  },
  {
   "cell_type": "code",
   "execution_count": null,
   "id": "aff2e963",
   "metadata": {},
   "outputs": [],
   "source": [
    "import os\n",
    "os.makedirs('data', exist_ok=True)\n",
    "data = {\n",
    "    'age': np.random.randint(18, 80, 100),\n",
    "    'income': np.random.randint(20000, 120000, 100),\n",
    "    'purchase_frequency': np.random.randint(1, 50, 100),\n",
    "    'segment': np.random.choice(['A', 'B', 'C'], 100)\n",
    "}\n",
    "df = pd.DataFrame(data)\n",
    "df.to_csv('data/customers_data.csv', index=False)\n",
    "print(\"✅ Sample data created and saved to 'data/customers_data.csv'\")"
   ]
  },
  {
   "cell_type": "code",
   "execution_count": null,
   "id": "5b7f86d9",
   "metadata": {},
   "outputs": [],
   "source": [
    "try:\n",
    "    df = pd.read_csv('data/customers_data.csv')\n",
    "    print(f\"✅ Data Loaded. Total Records: {len(df)}\")\n",
    "    display(df.head())  # Use display for better Jupyter output\n",
    "except FileNotFoundError:\n",
    "    print(\"❌ Error: 'data/customers_data.csv' not found. Please provide the correct file path or use the sample data above.\")"
   ]
  },
  {
   "cell_type": "code",
   "execution_count": null,
   "id": "6322f683",
   "metadata": {},
   "outputs": [],
   "source": [
    "print(\"📊 Dataset Info:\")\n",
    "df.info()\n",
    "print(\"\\n🔍 Missing Values:\")\n",
    "print(df.isnull().sum())\n",
    "if 'segment' in df.columns:\n",
    "    print(\"\\n🎯 Customer Segments Distribution:\")\n",
    "    plt.figure(figsize=(8,5))\n",
    "    sns.countplot(data=df, x='segment')\n",
    "    plt.title(\"Existing Segments Distribution\")\n",
    "    plt.show()\n",
    "else:\n",
    "    print(\"⚠️ No 'segment' column found. Skipping segment distribution plot.\")"
   ]
  },
  {
   "cell_type": "code",
   "execution_count": null,
   "id": "d3381796",
   "metadata": {},
   "outputs": [],
   "source": [
    "features = ['age', 'income', 'purchase_frequency']\n",
    "if all(col in df.columns for col in features):\n",
    "    scaler = StandardScaler()\n",
    "    X_scaled = scaler.fit_transform(df\n",
    "\n",
    "[features])\n",
    "    print(\"✅ Features Scaled\")\n",
    "else:\n",
    "    print(f\"❌ Error: One or more features {features} not found in dataset.\")"
   ]
  },
  {
   "cell_type": "code",
   "execution_count": null,
   "id": "7cd19b21",
   "metadata": {},
   "outputs": [],
   "source": [
    "inertia = []\n",
    "k_range = range(1, 11)\n",
    "for k in k_range:\n",
    "    kmeans = KMeans(n_clusters=k, random_state=42)\n",
    "    kmeans.fit(X_scaled)\n",
    "    inertia.append(kmeans.inertia_)\n",
    "plt.figure(figsize=(8,5))\n",
    "plt.plot(k_range, inertia, marker='o')\n",
    "plt.title('Elbow Method For Optimal k')\n",
    "plt.xlabel('Number of clusters')\n",
    "plt.ylabel('Inertia')\n",
    "plt.show()"
   ]
  },
  {
   "cell_type": "code",
   "execution_count": null,
   "id": "2358c63f",
   "metadata": {},
   "outputs": [],
   "source": [
    "for k in range(2, 7):\n",
    "    kmeans = KMeans(n_clusters=k, random_state=42)\n",
    "    kmeans.fit(X_scaled)\n",
    "    score = silhouette_score(X_scaled, kmeans.labels_)\n",
    "    print(f\"Silhouette Score for k={k}: {score:.4f}\")"
   ]
  },
  {
   "cell_type": "code",
   "execution_count": null,
   "id": "c25529ba",
   "metadata": {},
   "outputs": [],
   "source": [
    "optimal_k = 3  # Adjust based on elbow plot or silhouette scores\n",
    "kmeans = KMeans(n_clusters=optimal_k, random_state=42)\n",
    "df['cluster'] = kmeans.fit_predict(X_scaled)\n",
    "print(\"✅ Clustering Completed. Sample Data:\")\n",
    "display(df.head())"
   ]
  },
  {
   "cell_type": "code",
   "execution_count": null,
   "id": "75d250f4",
   "metadata": {},
   "outputs": [],
   "source": [
    "if 'income' in df.columns and 'purchase_frequency' in df.columns and 'cluster' in df.columns:\n",
    "    plt.figure(figsize=(8,5))\n",
    "    sns.scatterplot(data=df, x='income', y='purchase_frequency', hue='cluster', palette='viridis')\n",
    "    plt.title(\"Customer Segments by Income and Purchase Frequency\")\n",
    "    plt.show()\n",
    "else:\n",
    "    print(\"⚠️ Required columns for scatter plot are missing.\")"
   ]
  },
  {
   "cell_type": "code",
   "execution_count": null,
   "id": "26c08494",
   "metadata": {},
   "outputs": [],
   "source": [
    "try:\n",
    "    df.to_csv('data/customers_with_segments.csv', index=False)\n",
    "    print(\"✅ Segmented customer data saved to 'data/customers_with_segments.csv'\")\n",
    "except Exception as e:\n",
    "    print(f\"❌ Error saving file: {e}\")"
   ]
  }
 ],
 "metadata": {
  "kernelspec": {
   "display_name": "Python 3",
   "language": "python",
   "name": "python3"
  },
  "language_info": {
   "codemirror_mode": {
    "name": "ipython",
    "version": 3
   },
   "file_extension": ".py",
   "mimetype": "text/x-python",
   "name": "python",
   "nbconvert_exporter": "python",
   "pygments_lexer": "ipython3",
   "version": "3.13.5"
  }
 },
 "nbformat": 4,
 "nbformat_minor": 5
}
