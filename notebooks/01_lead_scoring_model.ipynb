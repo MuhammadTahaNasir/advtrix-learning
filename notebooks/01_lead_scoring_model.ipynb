{
    "cells": [
        {
            "cell_type": "code",
            "execution_count": null,
            "id": "4bd1ac25",
            "metadata": {},
            "outputs": [],
            "source": [
                "!pip install pandas scikit-learn matplotlib seaborn joblib"
            ]
        },
        {
            "cell_type": "code",
            "execution_count": null,
            "id": "1d1e9dbf",
            "metadata": {},
            "outputs": [],
            "source": [
                "import pandas as pd\n",
                "import numpy as np\n",
                "import matplotlib.pyplot as plt\n",
                "import seaborn as sns\n",
                "from sklearn.model_selection import train_test_split\n",
                "from sklearn.ensemble import RandomForestClassifier\n",
                "from sklearn.metrics import accuracy_score, classification_report, confusion_matrix\n",
                "import joblib\n",
                "import os\n",
                "\n",
                "sns.set(style=\"whitegrid\")\n",
                "# Ensure plotly is installed for consistency with other notebooks\n",
                "try:\n",
                "    import google.colab\n",
                "    !pip install plotly\n",
                "except ImportError:\n",
                "    print('Running in Jupyter. Ensure plotly is installed with `pip install plotly`')"
            ]
        },
        {
            "cell_type": "markdown",
            "id": "cell-003",
            "metadata": {},
            "source": [
                "### Step 1: Generate Synthetic Leads Data (if not already present)"
            ]
        },
        {
            "cell_type": "code",
            "execution_count": null,
            "id": "cell-004",
            "metadata": {},
            "outputs": [],
            "source": [
                "import pandas as pd\n",
                "import numpy as np\n",
                "import os\n",
                "\n",
                "# Create notebooks/data directory in root\n",
                "os.makedirs('data', exist_ok=True)\n",
                "\n",
                "# Generate synthetic leads data if file doesn't exist\n",
                "if not os.path.exists('notebooks/data/leads_data.csv'):\n",
                "    np.random.seed(42)\n",
                "    n_samples = 1000\n",
                "    data = {\n",
                "        'lead_id': range(1, n_samples + 1),\n",
                "        'source': np.random.choice(['Advertisement', 'Social Media', 'Website', 'Referral'], n_samples),\n",
                "        'industry': np.random.choice(['Finance', 'Healthcare', 'Tech', 'Retail'], n_samples),\n",
                "        'engagement_score': np.random.randint(0, 100, n_samples),\n",
                "        'time_spent': np.random.uniform(0, 50, n_samples),\n",
                "        'converted': np.random.choice([0, 1], n_samples, p=[0.8, 0.2])\n",
                "    }\n",
                "    df_leads = pd.DataFrame(data)\n",
                "    df_leads.to_csv('data/leads_data.csv', index=False)\n",
                "    print('✅ Generated and saved leads_data.csv to notebooks/data/')\n",
                "else:\n",
                "    print('✅ leads_data.csv already exists in notebooks/data/')\n"
            ]
        },
        {
            "cell_type": "markdown",
            "id": "cell-005",
            "metadata": {},
            "source": [
                "### Step 2: Load Leads Data"
            ]
        },
        {
            "cell_type": "code",
            "execution_count": null,
            "id": "8a60e038",
            "metadata": {},
            "outputs": [],
            "source": [
                "df = pd.read_csv('data/leads_data.csv')\n",
                "print(f'✅ Dataset Loaded. Total Records: {len(df)}')\n",
                "df.head()\n"
            ]
        },
        {
            "cell_type": "markdown",
            "id": "cell-006",
            "metadata": {},
            "source": [
                "### Step 3: Data Preprocessing"
            ]
        },
        {
            "cell_type": "code",
            "execution_count": null,
            "id": "cell-007",
            "metadata": {},
            "outputs": [],
            "source": [
                "# Encode categorical variables\n",
                "df_encoded = pd.get_dummies(df, columns=['source', 'industry'], drop_first=True)\n",
                "\n",
                "# Define features and target\n",
                "X = df_encoded.drop(['lead_id', 'converted'], axis=1)\n",
                "y = df_encoded['converted']\n",
                "\n",
                "# Split data\n",
                "X_train, X_test, y_train, y_test = train_test_split(X, y, test_size=0.2, random_state=42)\n",
                "\n",
                "print('✅ Data preprocessed and split into train/test sets')\n",
                "print(f'Features used: {X.columns.tolist()}')\n"
            ]
        },
        {
            "cell_type": "markdown",
            "id": "cell-008",
            "metadata": {},
            "source": [
                "### Step 4: Train Random Forest Model"
            ]
        },
        {
            "cell_type": "code",
            "execution_count": null,
            "id": "cell-009",
            "metadata": {},
            "outputs": [],
            "source": [
                "# Train Random Forest model\n",
                "model = RandomForestClassifier(random_state=42)\n",
                "model.fit(X_train, y_train)\n",
                "\n",
                "# Make predictions\n",
                "y_pred = model.predict(X_test)\n",
                "\n",
                "# Evaluate model\n",
                "accuracy = accuracy_score(y_test, y_pred)\n",
                "print(f'✅ Model Accuracy: {accuracy:.2f}')\n",
                "print('\\nClassification Report:')\n",
                "print(classification_report(y_test, y_pred, zero_division=1))\n",
                "\n",
                "# Confusion Matrix\n",
                "plt.figure(figsize=(8, 6))\n",
                "sns.heatmap(confusion_matrix(y_test, y_pred), annot=True, fmt='d', cmap='Blues')\n",
                "plt.title('Confusion Matrix')\n",
                "plt.xlabel('Predicted')\n",
                "plt.ylabel('Actual')\n",
                "plt.show()\n"
            ]
        },
        {
            "cell_type": "markdown",
            "id": "cell-010",
            "metadata": {},
            "source": [
                "### Step 5: Feature Importance"
            ]
        },
        {
            "cell_type": "code",
            "execution_count": null,
            "id": "cell-011",
            "metadata": {},
            "outputs": [],
            "source": [
                "importances = model.feature_importances_\n",
                "feature_names = X.columns\n",
                "feature_imp_df = pd.DataFrame({'Feature': feature_names, 'Importance': importances}).sort_values(by='Importance', ascending=False)\n",
                "\n",
                "plt.figure(figsize=(10,6))\n",
                "sns.barplot(x='Importance', y='Feature', data=feature_imp_df)\n",
                "plt.title('Feature Importance')\n",
                "plt.show()\n"
            ]
        },
        {
            "cell_type": "markdown",
            "id": "cell-012",
            "metadata": {},
            "source": [
                "### Step 6: Save Model"
            ]
        },
        {
            "cell_type": "code",
            "execution_count": null,
            "id": "8e5a38d7-dc27-4dd4-939f-d7e4ab78d347",
            "metadata": {},
            "outputs": [],
            "source": [
                "# Create model directory\n",
                "root_dir = os.path.abspath(os.path.join(os.getcwd(), '..'))\n",
                "models_dir = os.path.join(root_dir, 'marketsense_ai', 'backend', 'models')\n",
                "os.makedirs(models_dir, exist_ok=True)\n",
                "\n",
                "model_path = os.path.join(models_dir, 'lead_scoring_model.joblib')\n",
                "joblib.dump(model, model_path)\n",
                "\n",
                "print(f'✅ Model saved to {model_path}')"
            ]
        },
        {
            "cell_type": "markdown",
            "id": "cell-013",
            "metadata": {},
            "source": [
                "### Step 7: Save Data with Predictions"
            ]
        },
        {
            "cell_type": "code",
            "execution_count": null,
            "id": "be335958-4cce-4b6f-9024-51c692d81af9",
            "metadata": {},
            "outputs": [],
            "source": [
                "df['predicted_conversion'] = model.predict(X)\n",
                "df.to_csv('data/leads_with_predictions.csv', index=False)\n",
                "print('✅ Data with predictions saved to notebooks/data/leads_with_predictions.csv')\n"
            ]
        }
    ],
    "metadata": {
        "kernelspec": {
            "display_name": "Python 3 (ipykernel)",
            "language": "python",
            "name": "python3"
        },
        "language_info": {
            "codemirror_mode": {
                "name": "ipython",
                "version": 3
            },
            "file_extension": ".py",
            "mimetype": "text/x-python",
            "name": "python",
            "nbconvert_exporter": "python",
            "pygments_lexer": "ipython3",
            "version": "3.12.4"
        }
    },
    "nbformat": 4,
    "nbformat_minor": 5
}
